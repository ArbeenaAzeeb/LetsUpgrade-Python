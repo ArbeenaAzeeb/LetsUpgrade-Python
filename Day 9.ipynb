{
 "cells": [
  {
   "cell_type": "markdown",
   "metadata": {},
   "source": [
    "# Question 1"
   ]
  },
  {
   "cell_type": "code",
   "execution_count": 1,
   "metadata": {},
   "outputs": [
    {
     "name": "stdout",
     "output_type": "stream",
     "text": [
      "Requirement already satisfied: pylint in c:\\users\\arbeena\\anaconda3\\lib\\site-packages (2.4.4)\n",
      "Requirement already satisfied: colorama; sys_platform == \"win32\" in c:\\users\\arbeena\\anaconda3\\lib\\site-packages (from pylint) (0.4.3)\n",
      "Requirement already satisfied: mccabe<0.7,>=0.6 in c:\\users\\arbeena\\anaconda3\\lib\\site-packages (from pylint) (0.6.1)\n",
      "Requirement already satisfied: isort<5,>=4.2.5 in c:\\users\\arbeena\\anaconda3\\lib\\site-packages (from pylint) (4.3.21)\n",
      "Requirement already satisfied: astroid<2.4,>=2.3.0 in c:\\users\\arbeena\\anaconda3\\lib\\site-packages (from pylint) (2.3.3)\n",
      "Collecting typed-ast<1.5,>=1.4.0; implementation_name == \"cpython\" and python_version < \"3.8\"\n",
      "  Downloading typed_ast-1.4.1-cp37-cp37m-win_amd64.whl (155 kB)\n",
      "Requirement already satisfied: lazy-object-proxy==1.4.* in c:\\users\\arbeena\\anaconda3\\lib\\site-packages (from astroid<2.4,>=2.3.0->pylint) (1.4.3)\n",
      "Requirement already satisfied: wrapt==1.11.* in c:\\users\\arbeena\\anaconda3\\lib\\site-packages (from astroid<2.4,>=2.3.0->pylint) (1.11.2)\n",
      "Requirement already satisfied: six~=1.12 in c:\\users\\arbeena\\anaconda3\\lib\\site-packages (from astroid<2.4,>=2.3.0->pylint) (1.14.0)\n",
      "Installing collected packages: typed-ast\n",
      "Successfully installed typed-ast-1.4.1\n"
     ]
    }
   ],
   "source": [
    "! pip install pylint"
   ]
  },
  {
   "cell_type": "code",
   "execution_count": 81,
   "metadata": {},
   "outputs": [
    {
     "name": "stdout",
     "output_type": "stream",
     "text": [
      "Overwriting checkprime.py\n"
     ]
    }
   ],
   "source": [
    "%%writefile checkprime.py\n",
    "'''\n",
    "Code to check if a number is prime\n",
    "'''\n",
    "def prime(inp_num):\n",
    "    '''\n",
    "    Checking if number is divisible by any other\n",
    "    '''\n",
    "    for i in range(2, inp_num):\n",
    "        if inp_num%i == 0:\n",
    "            print(False)\n",
    "            break\n",
    "    else:\n",
    "        print(True)\n"
   ]
  },
  {
   "cell_type": "code",
   "execution_count": 82,
   "metadata": {},
   "outputs": [
    {
     "name": "stdout",
     "output_type": "stream",
     "text": [
      "\n",
      "-------------------------------------------------------------------\n",
      "\n",
      "Your code has been rated at 10.00/10 (previous run: 7.14/10, +2.86)\n",
      "\n",
      "\n",
      "\n"
     ]
    }
   ],
   "source": [
    "!pylint \"checkprime.py\""
   ]
  },
  {
   "cell_type": "markdown",
   "metadata": {},
   "source": [
    "Unittest Library"
   ]
  },
  {
   "cell_type": "code",
   "execution_count": 88,
   "metadata": {},
   "outputs": [
    {
     "name": "stdout",
     "output_type": "stream",
     "text": [
      "Overwriting isprime.py\n"
     ]
    }
   ],
   "source": [
    "%%writefile isprime.py\n",
    "'''\n",
    "Code to check if a number is prime\n",
    "'''\n",
    "def prime(inp_num):\n",
    "    '''\n",
    "    Checking if number is divisible by any other\n",
    "    '''\n",
    "    for i in range(2, inp_num):\n",
    "        if inp_num%i == 0:\n",
    "            return False\n",
    "            break\n",
    "    else:\n",
    "        return True"
   ]
  },
  {
   "cell_type": "code",
   "execution_count": 89,
   "metadata": {},
   "outputs": [
    {
     "name": "stdout",
     "output_type": "stream",
     "text": [
      "Overwriting testPrime.py\n"
     ]
    }
   ],
   "source": [
    "%%writefile testPrime.py\n",
    "\n",
    "import unittest\n",
    "import isprime\n",
    "\n",
    "class testPrimeNum(unittest.TestCase):\n",
    "    def testingP(self):\n",
    "        n1 = 5\n",
    "        result = isprime.prime(n1)\n",
    "        self.assertEqual(result, True)\n",
    "        \n",
    "    def testingNP(self):\n",
    "        n2 = 12\n",
    "        result = isprime.prime(n2)\n",
    "        self.assertEqual(result, False)\n",
    "    \n",
    "if __name__ == \"__main__\":\n",
    "    unittest.main()"
   ]
  },
  {
   "cell_type": "code",
   "execution_count": 90,
   "metadata": {},
   "outputs": [
    {
     "name": "stderr",
     "output_type": "stream",
     "text": [
      "..\n",
      "----------------------------------------------------------------------\n",
      "Ran 2 tests in 0.000s\n",
      "\n",
      "OK\n"
     ]
    }
   ],
   "source": [
    "! python testPrime.py"
   ]
  },
  {
   "cell_type": "markdown",
   "metadata": {},
   "source": [
    "# Question 2"
   ]
  },
  {
   "cell_type": "code",
   "execution_count": 1,
   "metadata": {},
   "outputs": [],
   "source": [
    "def armstrong_number(lst):\n",
    "    for item in lst:\n",
    "        Arm=0\n",
    "        Num=str(item)\n",
    "        L=len(Num)\n",
    "        for i in range(L):\n",
    "            Arm+=int(Num[i])**L\n",
    "        if Arm==item:\n",
    "            yield item"
   ]
  },
  {
   "cell_type": "code",
   "execution_count": 2,
   "metadata": {},
   "outputs": [
    {
     "name": "stdout",
     "output_type": "stream",
     "text": [
      "[1, 2, 3, 4, 5, 6, 7, 8, 9, 153, 370, 371, 407]\n"
     ]
    }
   ],
   "source": [
    "lst=list(range(1,1000))\n",
    "print(list(armstrong_number(lst)))"
   ]
  }
 ],
 "metadata": {
  "kernelspec": {
   "display_name": "Python 3",
   "language": "python",
   "name": "python3"
  },
  "language_info": {
   "codemirror_mode": {
    "name": "ipython",
    "version": 3
   },
   "file_extension": ".py",
   "mimetype": "text/x-python",
   "name": "python",
   "nbconvert_exporter": "python",
   "pygments_lexer": "ipython3",
   "version": "3.7.6"
  }
 },
 "nbformat": 4,
 "nbformat_minor": 4
}
