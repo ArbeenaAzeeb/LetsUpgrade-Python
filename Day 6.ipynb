{
 "cells": [
  {
   "cell_type": "markdown",
   "metadata": {},
   "source": [
    "# Question 1"
   ]
  },
  {
   "cell_type": "code",
   "execution_count": 5,
   "metadata": {},
   "outputs": [],
   "source": [
    "class BankAccount():\n",
    "    def __init__(self,ownerName,Balance):\n",
    "        self.ownerName=ownerName\n",
    "        self.Balance=Balance\n",
    "       \n",
    "    def Deposit(self,amount):\n",
    "        self.Balance+=amount\n",
    "       \n",
    "    def Withdraw(self,amount):\n",
    "        if self.Balance>amount:\n",
    "            self.Balance-=amount\n",
    "        else:\n",
    "            print(\"Insufficient Balance\")\n",
    "    def PrintDetails(self):\n",
    "        print(\"OwnerName:\",self.ownerName)\n",
    "        print(\"Balance:\",self.Balance)"
   ]
  },
  {
   "cell_type": "code",
   "execution_count": 6,
   "metadata": {},
   "outputs": [
    {
     "name": "stdout",
     "output_type": "stream",
     "text": [
      "OwnerName: Arbeena\n",
      "Balance: 13000\n"
     ]
    }
   ],
   "source": [
    "a=BankAccount(\"Arbeena\",10000)\n",
    "a.Deposit(5000)\n",
    "a.Withdraw(2000)\n",
    "a.PrintDetails()"
   ]
  },
  {
   "cell_type": "code",
   "execution_count": 7,
   "metadata": {},
   "outputs": [
    {
     "name": "stdout",
     "output_type": "stream",
     "text": [
      "Insufficient Balance\n",
      "OwnerName: Arbeena\n",
      "Balance: 1500\n"
     ]
    }
   ],
   "source": [
    "a=BankAccount(\"Arbeena\",1000)\n",
    "a.Deposit(500)\n",
    "a.Withdraw(2000)\n",
    "a.PrintDetails()"
   ]
  },
  {
   "cell_type": "markdown",
   "metadata": {},
   "source": [
    "# Question 2"
   ]
  },
  {
   "cell_type": "code",
   "execution_count": 8,
   "metadata": {},
   "outputs": [],
   "source": [
    "import math\n",
    "class cone():\n",
    "    def __init__(self,r,h):\n",
    "        self.r=r\n",
    "        self.h=h\n",
    "       \n",
    "    def volume(self):\n",
    "        v=math.pi*(self.r**2)*(self.h/3)\n",
    "        print(\"Volume:\",v)\n",
    "    def Surfacearea(self):\n",
    "        base=math.pi*(self.r**2)\n",
    "        side=math.pi*self.r*(math.sqrt((self.r**2)+(self.h**2)))\n",
    "        SA=base+side\n",
    "        print(\"Surface Area:\",SA)"
   ]
  },
  {
   "cell_type": "code",
   "execution_count": 9,
   "metadata": {},
   "outputs": [
    {
     "name": "stdout",
     "output_type": "stream",
     "text": [
      "Volume: 83.77580409572782\n",
      "Surface Area: 130.72951471480383\n"
     ]
    }
   ],
   "source": [
    "a=cone(4,5)\n",
    "a.volume()\n",
    "a.Surfacearea()"
   ]
  }
 ],
 "metadata": {
  "kernelspec": {
   "display_name": "Python 3",
   "language": "python",
   "name": "python3"
  },
  "language_info": {
   "codemirror_mode": {
    "name": "ipython",
    "version": 3
   },
   "file_extension": ".py",
   "mimetype": "text/x-python",
   "name": "python",
   "nbconvert_exporter": "python",
   "pygments_lexer": "ipython3",
   "version": "3.7.6"
  }
 },
 "nbformat": 4,
 "nbformat_minor": 4
}
