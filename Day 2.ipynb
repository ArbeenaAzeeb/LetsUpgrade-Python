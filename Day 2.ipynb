{
 "cells": [
  {
   "cell_type": "markdown",
   "metadata": {},
   "source": [
    "# List"
   ]
  },
  {
   "cell_type": "code",
   "execution_count": 27,
   "metadata": {},
   "outputs": [
    {
     "name": "stdout",
     "output_type": "stream",
     "text": [
      "[1, 'George', 4.5, 'A', 6]\n",
      "[1, 'George', 2020, 4.5, 'A', 6]\n",
      "[1, 2020, 4.5, 'A', 6]\n",
      "2\n",
      "[1, 2020, 4.5, 6]\n"
     ]
    }
   ],
   "source": [
    "list1=[1, \"George\", 4.5, \"A\"]\n",
    "list1.append(6)\n",
    "print(list1)\n",
    "list1.insert(2,2020)\n",
    "print(list1)\n",
    "list1.pop(1)\n",
    "print(list1)\n",
    "print(list1.index(4.5))\n",
    "list1.remove(\"A\")\n",
    "print(list1)"
   ]
  },
  {
   "cell_type": "markdown",
   "metadata": {},
   "source": [
    "# Dictionary"
   ]
  },
  {
   "cell_type": "code",
   "execution_count": 12,
   "metadata": {},
   "outputs": [
    {
     "name": "stdout",
     "output_type": "stream",
     "text": [
      "red\n",
      "dict_items([('apple', 'red'), ('pineapple', 'yellow'), ('watermelon', 'green'), ('grapes', 'violet')])\n",
      "dict_keys(['apple', 'pineapple', 'watermelon', 'grapes'])\n",
      "dict_values(['red', 'yellow', 'green', 'violet'])\n",
      "{'apple': 'red', 'pineapple': 'yellow', 'watermelon': 'green', 'grapes': 'violet', 'orange': 'orange'}\n"
     ]
    }
   ],
   "source": [
    "d1={\"apple\":\"red\", \"pineapple\":\"yellow\", \"watermelon\":\"green\",\"grapes\":\"violet\"}\n",
    "print(d1.get(\"apple\"))\n",
    "print(d1.items())\n",
    "print(d1.keys())\n",
    "print(d1.values())\n",
    "d1.update({\"orange\":\"orange\"})\n",
    "print(d1)"
   ]
  },
  {
   "cell_type": "markdown",
   "metadata": {},
   "source": [
    "# Set"
   ]
  },
  {
   "cell_type": "code",
   "execution_count": 26,
   "metadata": {},
   "outputs": [
    {
     "name": "stdout",
     "output_type": "stream",
     "text": [
      "{1, 3, 4.5, 'orange', 'apple', 'grape', 'banana'}\n",
      "{1, 4.5, 'orange', 'apple', 'grape', 'banana'}\n",
      "{1, 4.5, 'orange', 'apple', 'banana'}\n",
      "{1, 4.5, 4, 6, 'orange', 'apple', 9, 'banana'}\n",
      "{1, 'apple'}\n"
     ]
    }
   ],
   "source": [
    "s={\"apple\", 3, 1,\"grape\", \"banana\", 4.5}\n",
    "s.add(\"orange\")\n",
    "print(s)\n",
    "s.discard(3)\n",
    "print(s)\n",
    "s.remove(\"grape\")\n",
    "print(s)\n",
    "s1={1,6,9,4,\"apple\"}\n",
    "print(s.union(s1))\n",
    "print(s.intersection(s1))"
   ]
  },
  {
   "cell_type": "markdown",
   "metadata": {},
   "source": [
    "# Tuple"
   ]
  },
  {
   "cell_type": "code",
   "execution_count": 29,
   "metadata": {},
   "outputs": [
    {
     "name": "stdout",
     "output_type": "stream",
     "text": [
      "2\n",
      "4\n",
      "1\n",
      "7\n",
      "True\n"
     ]
    }
   ],
   "source": [
    "t=(1,2,3,4,5,2,4)\n",
    "print(t.count(2))\n",
    "print(t.index(5))\n",
    "print(min(t))\n",
    "print(len(t))\n",
    "print(5 in t)"
   ]
  },
  {
   "cell_type": "markdown",
   "metadata": {},
   "source": [
    "# String"
   ]
  },
  {
   "cell_type": "code",
   "execution_count": 41,
   "metadata": {},
   "outputs": [
    {
     "name": "stdout",
     "output_type": "stream",
     "text": [
      "lets upgrade\n",
      "5\n",
      "2\n",
      "LETS UPGRADE\n",
      "['Lets', 'Upgrade']\n"
     ]
    }
   ],
   "source": [
    "s1=\"Lets Upgrade\"\n",
    "print(s1.casefold())\n",
    "print(s1.find(\"U\"))\n",
    "print(s1.count(\"e\"))\n",
    "print(s1.upper())\n",
    "print(s1.split())"
   ]
  }
 ],
 "metadata": {
  "kernelspec": {
   "display_name": "Python 3",
   "language": "python",
   "name": "python3"
  },
  "language_info": {
   "codemirror_mode": {
    "name": "ipython",
    "version": 3
   },
   "file_extension": ".py",
   "mimetype": "text/x-python",
   "name": "python",
   "nbconvert_exporter": "python",
   "pygments_lexer": "ipython3",
   "version": "3.7.6"
  }
 },
 "nbformat": 4,
 "nbformat_minor": 4
}
