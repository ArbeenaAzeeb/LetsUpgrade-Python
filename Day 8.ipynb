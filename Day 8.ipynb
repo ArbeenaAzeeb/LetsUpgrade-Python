{
 "cells": [
  {
   "cell_type": "markdown",
   "metadata": {},
   "source": [
    "# Question 1"
   ]
  },
  {
   "cell_type": "code",
   "execution_count": 35,
   "metadata": {},
   "outputs": [],
   "source": [
    "def getInput(gettinginput):\n",
    "    def wrap():\n",
    "        print(\"Hey people enter the number of terms\")\n",
    "        n = int(input(\"Enter your Number - \"))\n",
    "        gettinginput(n)   \n",
    "    return wrap"
   ]
  },
  {
   "cell_type": "code",
   "execution_count": 36,
   "metadata": {},
   "outputs": [],
   "source": [
    "@getInput\n",
    "def fibonacci(n):\n",
    "    a = 0\n",
    "    b = 1\n",
    "    s = 0\n",
    "    count = 1\n",
    "    print(\"Fibonacci Series: \", end = \" \")\n",
    "    while(count <= n):\n",
    "      print(s, end = \" \")\n",
    "      count += 1\n",
    "      a = b\n",
    "      b = s\n",
    "      s = a + b"
   ]
  },
  {
   "cell_type": "code",
   "execution_count": 37,
   "metadata": {},
   "outputs": [
    {
     "name": "stdout",
     "output_type": "stream",
     "text": [
      "Hey people enter the number of terms\n",
      "Enter your Number - 5\n",
      "Fibonacci Series:  0 1 1 2 3 "
     ]
    }
   ],
   "source": [
    "fibonacci()"
   ]
  },
  {
   "cell_type": "markdown",
   "metadata": {},
   "source": [
    "# Question 2"
   ]
  },
  {
   "cell_type": "code",
   "execution_count": 46,
   "metadata": {},
   "outputs": [
    {
     "name": "stdout",
     "output_type": "stream",
     "text": [
      "Writing assignment.py\n"
     ]
    }
   ],
   "source": [
    "%%writefile assignment.py\n",
    "Hey this is my Day 8 assignment"
   ]
  },
  {
   "cell_type": "code",
   "execution_count": 47,
   "metadata": {},
   "outputs": [
    {
     "name": "stdout",
     "output_type": "stream",
     "text": [
      "Hey this is my Day 8 assignment\n",
      "\n"
     ]
    }
   ],
   "source": [
    "n=open(\"assignment.py\",'r')\n",
    "print(n.read())"
   ]
  },
  {
   "cell_type": "code",
   "execution_count": 48,
   "metadata": {},
   "outputs": [
    {
     "name": "stdout",
     "output_type": "stream",
     "text": [
      "Invalid command\n"
     ]
    }
   ],
   "source": [
    "try:\n",
    "    n=open(\"assignment.py\",'r')\n",
    "    n.write(\"Hello\")\n",
    "    print(n.read())\n",
    "except:\n",
    "    print(\"Invalid command\")"
   ]
  }
 ],
 "metadata": {
  "kernelspec": {
   "display_name": "Python 3",
   "language": "python",
   "name": "python3"
  },
  "language_info": {
   "codemirror_mode": {
    "name": "ipython",
    "version": 3
   },
   "file_extension": ".py",
   "mimetype": "text/x-python",
   "name": "python",
   "nbconvert_exporter": "python",
   "pygments_lexer": "ipython3",
   "version": "3.7.6"
  }
 },
 "nbformat": 4,
 "nbformat_minor": 4
}
